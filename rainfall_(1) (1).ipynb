{
  "cells": [
    {
      "cell_type": "code",
      "execution_count": 14,
      "metadata": {
        "id": "pRwtqxDUwi7T"
      },
      "outputs": [],
      "source": [
        "import numpy as np\n",
        "import pandas as pd\n",
        "import tensorflow as tf\n",
        "import matplotlib.pyplot as plt\n",
        "\n",
        "from sklearn.preprocessing import MinMaxScaler\n",
        "\n",
        "from tensorflow.keras.models import Sequential\n",
        "from tensorflow.keras.layers import LSTM, Dense\n",
        "\n",
        "\n",
        "from sklearn.metrics import accuracy_score, precision_score, recall_score\n",
        "from sklearn.model_selection import train_test_split\n",
        "\n",
        "import os\n"
      ]
    },
    {
      "cell_type": "code",
      "execution_count": 15,
      "metadata": {
        "id": "A_HWN_LHwkH_"
      },
      "outputs": [],
      "source": [
        "os.environ[\"CUDA_VISIBLE_DEVICES\"]=\"0\"\n",
        "gpus = tf.config.experimental.list_physical_devices('GPU')\n",
        "if gpus:\n",
        "    try:\n",
        "        tf.config.experimental.set_memory_growth(gpus[0], True)\n",
        "    except RuntimeError as e:\n",
        "        print(e)\n"
      ]
    },
    {
      "cell_type": "code",
      "execution_count": 16,
      "metadata": {
        "colab": {
          "base_uri": "https://localhost:8080/",
          "height": 206
        },
        "id": "39vWs1Uzw5l9",
        "outputId": "b731e847-2582-4305-ac44-a9e0d60d2975"
      },
      "outputs": [
        {
          "output_type": "execute_result",
          "data": {
            "text/plain": [
              "        0              1                2\n",
              "0  region  precipitation             time\n",
              "1     강남구              0  2023-07-01 0:09\n",
              "2     강남구              0  2023-07-01 0:09\n",
              "3     강남구              0  2023-07-01 0:09\n",
              "4     강남구              0  2023-07-01 0:19"
            ],
            "text/html": [
              "\n",
              "  <div id=\"df-0e2b2a6a-ce01-4b59-bc8b-d06b7315d1df\" class=\"colab-df-container\">\n",
              "    <div>\n",
              "<style scoped>\n",
              "    .dataframe tbody tr th:only-of-type {\n",
              "        vertical-align: middle;\n",
              "    }\n",
              "\n",
              "    .dataframe tbody tr th {\n",
              "        vertical-align: top;\n",
              "    }\n",
              "\n",
              "    .dataframe thead th {\n",
              "        text-align: right;\n",
              "    }\n",
              "</style>\n",
              "<table border=\"1\" class=\"dataframe\">\n",
              "  <thead>\n",
              "    <tr style=\"text-align: right;\">\n",
              "      <th></th>\n",
              "      <th>0</th>\n",
              "      <th>1</th>\n",
              "      <th>2</th>\n",
              "    </tr>\n",
              "  </thead>\n",
              "  <tbody>\n",
              "    <tr>\n",
              "      <th>0</th>\n",
              "      <td>region</td>\n",
              "      <td>precipitation</td>\n",
              "      <td>time</td>\n",
              "    </tr>\n",
              "    <tr>\n",
              "      <th>1</th>\n",
              "      <td>강남구</td>\n",
              "      <td>0</td>\n",
              "      <td>2023-07-01 0:09</td>\n",
              "    </tr>\n",
              "    <tr>\n",
              "      <th>2</th>\n",
              "      <td>강남구</td>\n",
              "      <td>0</td>\n",
              "      <td>2023-07-01 0:09</td>\n",
              "    </tr>\n",
              "    <tr>\n",
              "      <th>3</th>\n",
              "      <td>강남구</td>\n",
              "      <td>0</td>\n",
              "      <td>2023-07-01 0:09</td>\n",
              "    </tr>\n",
              "    <tr>\n",
              "      <th>4</th>\n",
              "      <td>강남구</td>\n",
              "      <td>0</td>\n",
              "      <td>2023-07-01 0:19</td>\n",
              "    </tr>\n",
              "  </tbody>\n",
              "</table>\n",
              "</div>\n",
              "    <div class=\"colab-df-buttons\">\n",
              "\n",
              "  <div class=\"colab-df-container\">\n",
              "    <button class=\"colab-df-convert\" onclick=\"convertToInteractive('df-0e2b2a6a-ce01-4b59-bc8b-d06b7315d1df')\"\n",
              "            title=\"Convert this dataframe to an interactive table.\"\n",
              "            style=\"display:none;\">\n",
              "\n",
              "  <svg xmlns=\"http://www.w3.org/2000/svg\" height=\"24px\" viewBox=\"0 -960 960 960\">\n",
              "    <path d=\"M120-120v-720h720v720H120Zm60-500h600v-160H180v160Zm220 220h160v-160H400v160Zm0 220h160v-160H400v160ZM180-400h160v-160H180v160Zm440 0h160v-160H620v160ZM180-180h160v-160H180v160Zm440 0h160v-160H620v160Z\"/>\n",
              "  </svg>\n",
              "    </button>\n",
              "\n",
              "  <style>\n",
              "    .colab-df-container {\n",
              "      display:flex;\n",
              "      gap: 12px;\n",
              "    }\n",
              "\n",
              "    .colab-df-convert {\n",
              "      background-color: #E8F0FE;\n",
              "      border: none;\n",
              "      border-radius: 50%;\n",
              "      cursor: pointer;\n",
              "      display: none;\n",
              "      fill: #1967D2;\n",
              "      height: 32px;\n",
              "      padding: 0 0 0 0;\n",
              "      width: 32px;\n",
              "    }\n",
              "\n",
              "    .colab-df-convert:hover {\n",
              "      background-color: #E2EBFA;\n",
              "      box-shadow: 0px 1px 2px rgba(60, 64, 67, 0.3), 0px 1px 3px 1px rgba(60, 64, 67, 0.15);\n",
              "      fill: #174EA6;\n",
              "    }\n",
              "\n",
              "    .colab-df-buttons div {\n",
              "      margin-bottom: 4px;\n",
              "    }\n",
              "\n",
              "    [theme=dark] .colab-df-convert {\n",
              "      background-color: #3B4455;\n",
              "      fill: #D2E3FC;\n",
              "    }\n",
              "\n",
              "    [theme=dark] .colab-df-convert:hover {\n",
              "      background-color: #434B5C;\n",
              "      box-shadow: 0px 1px 3px 1px rgba(0, 0, 0, 0.15);\n",
              "      filter: drop-shadow(0px 1px 2px rgba(0, 0, 0, 0.3));\n",
              "      fill: #FFFFFF;\n",
              "    }\n",
              "  </style>\n",
              "\n",
              "    <script>\n",
              "      const buttonEl =\n",
              "        document.querySelector('#df-0e2b2a6a-ce01-4b59-bc8b-d06b7315d1df button.colab-df-convert');\n",
              "      buttonEl.style.display =\n",
              "        google.colab.kernel.accessAllowed ? 'block' : 'none';\n",
              "\n",
              "      async function convertToInteractive(key) {\n",
              "        const element = document.querySelector('#df-0e2b2a6a-ce01-4b59-bc8b-d06b7315d1df');\n",
              "        const dataTable =\n",
              "          await google.colab.kernel.invokeFunction('convertToInteractive',\n",
              "                                                    [key], {});\n",
              "        if (!dataTable) return;\n",
              "\n",
              "        const docLinkHtml = 'Like what you see? Visit the ' +\n",
              "          '<a target=\"_blank\" href=https://colab.research.google.com/notebooks/data_table.ipynb>data table notebook</a>'\n",
              "          + ' to learn more about interactive tables.';\n",
              "        element.innerHTML = '';\n",
              "        dataTable['output_type'] = 'display_data';\n",
              "        await google.colab.output.renderOutput(dataTable, element);\n",
              "        const docLink = document.createElement('div');\n",
              "        docLink.innerHTML = docLinkHtml;\n",
              "        element.appendChild(docLink);\n",
              "      }\n",
              "    </script>\n",
              "  </div>\n",
              "\n",
              "\n",
              "<div id=\"df-9aa2db35-1cdd-486b-a673-769afe432570\">\n",
              "  <button class=\"colab-df-quickchart\" onclick=\"quickchart('df-9aa2db35-1cdd-486b-a673-769afe432570')\"\n",
              "            title=\"Suggest charts\"\n",
              "            style=\"display:none;\">\n",
              "\n",
              "<svg xmlns=\"http://www.w3.org/2000/svg\" height=\"24px\"viewBox=\"0 0 24 24\"\n",
              "     width=\"24px\">\n",
              "    <g>\n",
              "        <path d=\"M19 3H5c-1.1 0-2 .9-2 2v14c0 1.1.9 2 2 2h14c1.1 0 2-.9 2-2V5c0-1.1-.9-2-2-2zM9 17H7v-7h2v7zm4 0h-2V7h2v10zm4 0h-2v-4h2v4z\"/>\n",
              "    </g>\n",
              "</svg>\n",
              "  </button>\n",
              "\n",
              "<style>\n",
              "  .colab-df-quickchart {\n",
              "      --bg-color: #E8F0FE;\n",
              "      --fill-color: #1967D2;\n",
              "      --hover-bg-color: #E2EBFA;\n",
              "      --hover-fill-color: #174EA6;\n",
              "      --disabled-fill-color: #AAA;\n",
              "      --disabled-bg-color: #DDD;\n",
              "  }\n",
              "\n",
              "  [theme=dark] .colab-df-quickchart {\n",
              "      --bg-color: #3B4455;\n",
              "      --fill-color: #D2E3FC;\n",
              "      --hover-bg-color: #434B5C;\n",
              "      --hover-fill-color: #FFFFFF;\n",
              "      --disabled-bg-color: #3B4455;\n",
              "      --disabled-fill-color: #666;\n",
              "  }\n",
              "\n",
              "  .colab-df-quickchart {\n",
              "    background-color: var(--bg-color);\n",
              "    border: none;\n",
              "    border-radius: 50%;\n",
              "    cursor: pointer;\n",
              "    display: none;\n",
              "    fill: var(--fill-color);\n",
              "    height: 32px;\n",
              "    padding: 0;\n",
              "    width: 32px;\n",
              "  }\n",
              "\n",
              "  .colab-df-quickchart:hover {\n",
              "    background-color: var(--hover-bg-color);\n",
              "    box-shadow: 0 1px 2px rgba(60, 64, 67, 0.3), 0 1px 3px 1px rgba(60, 64, 67, 0.15);\n",
              "    fill: var(--button-hover-fill-color);\n",
              "  }\n",
              "\n",
              "  .colab-df-quickchart-complete:disabled,\n",
              "  .colab-df-quickchart-complete:disabled:hover {\n",
              "    background-color: var(--disabled-bg-color);\n",
              "    fill: var(--disabled-fill-color);\n",
              "    box-shadow: none;\n",
              "  }\n",
              "\n",
              "  .colab-df-spinner {\n",
              "    border: 2px solid var(--fill-color);\n",
              "    border-color: transparent;\n",
              "    border-bottom-color: var(--fill-color);\n",
              "    animation:\n",
              "      spin 1s steps(1) infinite;\n",
              "  }\n",
              "\n",
              "  @keyframes spin {\n",
              "    0% {\n",
              "      border-color: transparent;\n",
              "      border-bottom-color: var(--fill-color);\n",
              "      border-left-color: var(--fill-color);\n",
              "    }\n",
              "    20% {\n",
              "      border-color: transparent;\n",
              "      border-left-color: var(--fill-color);\n",
              "      border-top-color: var(--fill-color);\n",
              "    }\n",
              "    30% {\n",
              "      border-color: transparent;\n",
              "      border-left-color: var(--fill-color);\n",
              "      border-top-color: var(--fill-color);\n",
              "      border-right-color: var(--fill-color);\n",
              "    }\n",
              "    40% {\n",
              "      border-color: transparent;\n",
              "      border-right-color: var(--fill-color);\n",
              "      border-top-color: var(--fill-color);\n",
              "    }\n",
              "    60% {\n",
              "      border-color: transparent;\n",
              "      border-right-color: var(--fill-color);\n",
              "    }\n",
              "    80% {\n",
              "      border-color: transparent;\n",
              "      border-right-color: var(--fill-color);\n",
              "      border-bottom-color: var(--fill-color);\n",
              "    }\n",
              "    90% {\n",
              "      border-color: transparent;\n",
              "      border-bottom-color: var(--fill-color);\n",
              "    }\n",
              "  }\n",
              "</style>\n",
              "\n",
              "  <script>\n",
              "    async function quickchart(key) {\n",
              "      const quickchartButtonEl =\n",
              "        document.querySelector('#' + key + ' button');\n",
              "      quickchartButtonEl.disabled = true;  // To prevent multiple clicks.\n",
              "      quickchartButtonEl.classList.add('colab-df-spinner');\n",
              "      try {\n",
              "        const charts = await google.colab.kernel.invokeFunction(\n",
              "            'suggestCharts', [key], {});\n",
              "      } catch (error) {\n",
              "        console.error('Error during call to suggestCharts:', error);\n",
              "      }\n",
              "      quickchartButtonEl.classList.remove('colab-df-spinner');\n",
              "      quickchartButtonEl.classList.add('colab-df-quickchart-complete');\n",
              "    }\n",
              "    (() => {\n",
              "      let quickchartButtonEl =\n",
              "        document.querySelector('#df-9aa2db35-1cdd-486b-a673-769afe432570 button');\n",
              "      quickchartButtonEl.style.display =\n",
              "        google.colab.kernel.accessAllowed ? 'block' : 'none';\n",
              "    })();\n",
              "  </script>\n",
              "</div>\n",
              "\n",
              "    </div>\n",
              "  </div>\n"
            ],
            "application/vnd.google.colaboratory.intrinsic+json": {
              "type": "dataframe",
              "variable_name": "data",
              "summary": "{\n  \"name\": \"data\",\n  \"rows\": 25908,\n  \"fields\": [\n    {\n      \"column\": 0,\n      \"properties\": {\n        \"dtype\": \"category\",\n        \"num_unique_values\": 26,\n        \"samples\": [\n          \"\\uae08\\ucc9c\\uad6c\",\n          \"\\uc131\\ub3d9\\uad6c\",\n          \"region\"\n        ],\n        \"semantic_type\": \"\",\n        \"description\": \"\"\n      }\n    },\n    {\n      \"column\": 1,\n      \"properties\": {\n        \"dtype\": \"category\",\n        \"num_unique_values\": 49,\n        \"samples\": [\n          \"9\",\n          \"22\",\n          \"20.5\"\n        ],\n        \"semantic_type\": \"\",\n        \"description\": \"\"\n      }\n    },\n    {\n      \"column\": 2,\n      \"properties\": {\n        \"dtype\": \"category\",\n        \"num_unique_values\": 1224,\n        \"samples\": [\n          \"2023-07-22 22:39\",\n          \"2023-07-13 18:39\",\n          \"2023-07-11 17:59\"\n        ],\n        \"semantic_type\": \"\",\n        \"description\": \"\"\n      }\n    }\n  ]\n}"
            }
          },
          "metadata": {},
          "execution_count": 16
        }
      ],
      "source": [
        "###TO DO@1: consider other parameters + precipitation\n",
        "###CASE:1 - predict each parameters -> input to classification model\n",
        "###CASE:2 - predict overall system in LSTM\n",
        "###TO DO@2: create git hub repository\n",
        "data = pd.read_csv('/content/seoul_2023_07.csv', header=None,encoding=\"cp949\")\n",
        "data2 = pd.read_csv('/content/2023_08.csv', header=None,encoding=\"cp949\")\n",
        "data3 = pd.read_csv('/content/seoul_2022_07.csv', header=None,encoding=\"cp949\")\n",
        "data4 = pd.read_csv('/content/seoul_2022_08.csv', header=None,encoding=\"cp949\")\n",
        "data5 = pd.read_csv('/content/seoul_2021_07.csv', header=None,encoding=\"cp949\")\n",
        "data6 = pd.read_csv('/content/seoul_2021_08.csv', header=None,encoding=\"cp949\")\n",
        "data.head()\n"
      ]
    },
    {
      "cell_type": "code",
      "execution_count": 17,
      "metadata": {
        "id": "AkydA-nyYfHN",
        "colab": {
          "base_uri": "https://localhost:8080/"
        },
        "outputId": "a7abe99e-74c5-4381-f3a0-248828396ca1"
      },
      "outputs": [
        {
          "output_type": "execute_result",
          "data": {
            "text/plain": [
              "array([['region', 'precipitation', 'time'],\n",
              "       ['강남구', '0', '2023-07-01 0:09'],\n",
              "       ['강남구', '0', '2023-07-01 0:09'],\n",
              "       ...,\n",
              "       ['중랑구', '1.5', '2021-08-31 23:49'],\n",
              "       ['중랑구', '1.5', '2021-08-31 23:59'],\n",
              "       ['중랑구', '1', '2021-08-31 23:59']], dtype=object)"
            ]
          },
          "metadata": {},
          "execution_count": 17
        }
      ],
      "source": [
        "data=np.array(data)\n",
        "data2=np.array(data2)\n",
        "data3=np.array(data3)\n",
        "data4=np.array(data4)\n",
        "data5=np.array(data5)\n",
        "data6=np.array(data6)\n",
        "\n",
        "data2 = data2[1:]\n",
        "data3 = data3[1:]\n",
        "data4 = data4[1:]\n",
        "data5 = data5[1:]\n",
        "data6 = data6[1:]\n",
        "data = np.concatenate((data,data2,data3,data4,data5,data6))\n",
        "data"
      ]
    },
    {
      "cell_type": "code",
      "execution_count": 17,
      "metadata": {
        "id": "KD1gQrNDzSHA"
      },
      "outputs": [],
      "source": []
    },
    {
      "cell_type": "code",
      "execution_count": 18,
      "metadata": {
        "colab": {
          "base_uri": "https://localhost:8080/"
        },
        "id": "NV22CZBZyAYq",
        "outputId": "f1683fa3-c4a9-4777-f905-2c95d8c82523"
      },
      "outputs": [
        {
          "output_type": "stream",
          "name": "stdout",
          "text": [
            "['강남구' '강동구' '강북구' '강서구' '관악구' '광진구' '구로구' '금천구' '노원구' '도봉구' '동대문구' '동작구'\n",
            " '마포구' '서대문구' '서초구' '성동구' '성북구' '송파구' '양천구' '영등포구' '용산구' '은평구' '종로구' '중구'\n",
            " '중랑구']\n"
          ]
        }
      ],
      "source": [
        "###########데이터 전처리 ###########\n",
        "\n",
        "# 데이터셋을 Pandas DataFrame으로 변환\n",
        "df = pd.DataFrame(data[1:], columns=data[0])\n",
        "# 지역 날짜와 강수량 데이터 추출\n",
        "df['time'] = pd.to_datetime(df['time'])\n",
        "df['precipitation'] = df['precipitation'].astype(float)\n",
        "regions = df['region'].unique()\n",
        "print(regions)\n",
        "\n",
        "precipitation = df['precipitation'].values\n",
        "dates = df['time'].values\n",
        "\n",
        "#print(dates)\n"
      ]
    },
    {
      "cell_type": "code",
      "execution_count": 19,
      "metadata": {
        "id": "dhbvCXQJfV1x"
      },
      "outputs": [],
      "source": [
        "region_data = {}\n",
        "\n",
        "for region in regions:\n",
        "    region_df = df[df['region'] == region][['time', 'precipitation']]\n",
        "    region_df['time'] = pd.to_datetime(region_df['time'])\n",
        "    region_df = region_df.sort_values('time')\n",
        "\n",
        "    #scaler = MinMaxScaler()\n",
        "    #region_df['precipitation'] = scaler.fit_transform(region_df[['precipitation']])\n",
        "\n",
        "    region_data[region] = (region_df)\n"
      ]
    },
    {
      "cell_type": "code",
      "execution_count": 21,
      "metadata": {
        "id": "X_C5yuGdEvSx"
      },
      "outputs": [],
      "source": [
        "for i in regions:\n",
        "  region_data[i]=region_data[i].dropna()"
      ]
    },
    {
      "cell_type": "code",
      "execution_count": 24,
      "metadata": {
        "id": "zE5Q4twBp5fc"
      },
      "outputs": [],
      "source": [
        "# 시계열 윈도우 생성 함수\n",
        "def create_sequences(data, seq_length):\n",
        "    sequences = []\n",
        "\n",
        "    data2=[]\n",
        "    for i in data:\n",
        "      data2.append(i)\n",
        "\n",
        "\n",
        "    for i in range(len(data2) - seq_length-4):\n",
        "        sequence = data2[i:i + seq_length]\n",
        "\n",
        "        label = data2[i + seq_length+4]\n",
        "        sequences.append((sequence, label))\n",
        "    return sequences\n",
        "\n",
        "# 시계열 윈도우 생성 및 데이터 결합\n",
        "seq_length = 12\n",
        "all_sequences = []\n",
        "#print(region_data.items())\n",
        "i=0\n",
        "for region, (region_df, _) in region_data.items():\n",
        "   ps=region_data[region].precipitation\n",
        "\n",
        "\n",
        "  #sequences = create_sequences(region_df['precipitation'].values, seq_length)\n",
        "   sequences = create_sequences(ps, seq_length)\n",
        "  # print(sequences)\n",
        "   for seq, label in sequences:\n",
        "       all_sequences.append((region, seq, label))\n",
        "\n",
        "\n",
        "# 데이터를 입력(X), 출력(y), 지역 정보(region)으로 분리\n",
        "regions, X, y = zip(*all_sequences)\n",
        "X = np.array(X)\n",
        "y = np.array(y)\n",
        "\n"
      ]
    },
    {
      "cell_type": "code",
      "execution_count": 25,
      "metadata": {
        "id": "B737llBGBcAf"
      },
      "outputs": [],
      "source": [
        "# LSTM 입력 형식에 맞게 데이터 차원 변경\n",
        "X = X.reshape((X.shape[0], X.shape[1], 1))\n",
        "\n",
        "# 지역 정보를 수치형으로 변환 (Label Encoding)\n",
        "from sklearn.preprocessing import LabelEncoder\n",
        "\n",
        "label_encoder = LabelEncoder()\n",
        "region_encoded = label_encoder.fit_transform(regions)\n",
        "region_encoded = np.array(region_encoded).reshape(-1, 1)"
      ]
    },
    {
      "cell_type": "code",
      "execution_count": 28,
      "metadata": {
        "colab": {
          "base_uri": "https://localhost:8080/"
        },
        "id": "XC3yO_aJuL5S",
        "outputId": "54407970-b743-43ae-dfa8-1f88465916f7"
      },
      "outputs": [
        {
          "output_type": "stream",
          "name": "stderr",
          "text": [
            "WARNING:tensorflow:Layer lstm_6 will not use cuDNN kernels since it doesn't meet the criteria. It will use a generic GPU kernel as fallback when running on GPU.\n",
            "WARNING:tensorflow:Layer lstm_7 will not use cuDNN kernels since it doesn't meet the criteria. It will use a generic GPU kernel as fallback when running on GPU.\n"
          ]
        },
        {
          "output_type": "stream",
          "name": "stdout",
          "text": [
            "Epoch 1/5\n",
            "1672/1672 [==============================] - 71s 40ms/step - loss: 2.3975 - accuracy: 0.4003 - val_loss: 1.8386 - val_accuracy: 0.4769\n",
            "Epoch 2/5\n",
            "1672/1672 [==============================] - 77s 46ms/step - loss: 2.3321 - accuracy: 0.4187 - val_loss: 1.8217 - val_accuracy: 0.4578\n",
            "Epoch 3/5\n",
            "1672/1672 [==============================] - 74s 44ms/step - loss: 2.3130 - accuracy: 0.4273 - val_loss: 1.8018 - val_accuracy: 0.4871\n",
            "Epoch 4/5\n",
            "1672/1672 [==============================] - 74s 44ms/step - loss: 2.3060 - accuracy: 0.4290 - val_loss: 1.7932 - val_accuracy: 0.4318\n",
            "Epoch 5/5\n",
            "1672/1672 [==============================] - 67s 40ms/step - loss: 2.2948 - accuracy: 0.4289 - val_loss: 1.8249 - val_accuracy: 0.4721\n"
          ]
        }
      ],
      "source": [
        "import tensorflow as tf\n",
        "from tensorflow.keras.models import Model\n",
        "from tensorflow.keras.layers import Input, LSTM, Dense, Concatenate, Embedding, Flatten\n",
        "from tensorflow.keras.initializers import RandomNormal\n",
        "from tensorflow.keras.optimizers import Adam\n",
        "# 입력 레이어 정의\n",
        "input_seq = Input(shape=(seq_length, 1))\n",
        "input_region = Input(shape=(1,))\n",
        "\n",
        "# 지역 정보를 Embedding하여 사용\n",
        "embedding = Embedding(input_dim=len(regions), output_dim=10)(input_region)\n",
        "embedding = Flatten()(embedding)\n",
        "\n",
        "# 시계열 데이터를 LSTM으로 처리\n",
        "\n",
        "lstm_out1 = LSTM(50, activation='relu', return_sequences=True)(input_seq)\n",
        "lstm_out2 = LSTM(50, activation='relu', return_sequences=True)(input_seq)\n",
        "lstm_out3 = LSTM(50, activation='relu')(lstm_out2)\n",
        "\n",
        "# LSTM 출력과 지역 임베딩을 연결\n",
        "combined = Concatenate()([lstm_out2, embedding])\n",
        "# concanate output and region\n",
        "\n",
        "# define output layer\n",
        "output = Dense(1)(combined)\n",
        "#optimizer = Adam(learning_rate=0.001)\n",
        "\n",
        "\n",
        "model = Model(inputs=[input_seq, input_region], outputs=output)\n",
        "model.compile(optimizer='adam', loss='mse',metrics=['accuracy'])\n",
        "\n",
        "\n",
        "history=model.fit([X, region_encoded], y, epochs=5, batch_size=64, validation_split=0.2)"
      ]
    },
    {
      "cell_type": "code",
      "execution_count": 29,
      "metadata": {
        "id": "s36kI36c0_oB"
      },
      "outputs": [],
      "source": [
        "import matplotlib.pyplot as plt\n",
        "\n",
        "def plot_loss(history):\n",
        "    plt.plot(history.history['loss'], label='Training Loss')\n",
        "    plt.plot(history.history['val_loss'], label='Validation Loss')\n",
        "    plt.title('Training and Validation Loss')\n",
        "    plt.xlabel('Epochs')\n",
        "    plt.ylabel('Loss')\n",
        "    plt.xlim(0,10)  # x축 범위 설정\n",
        "    plt.ylim(0, 0.5)\n",
        "    plt.legend()\n",
        "    plt.show()\n",
        "\n",
        "def plot_accuracy(history):\n",
        "    plt.plot(history.history['accuracy'], label='Training Accuracy')\n",
        "    plt.plot(history.history['val_accuracy'], label='Validation Accuracy')\n",
        "    plt.title('Training and Validation Accuracy')\n",
        "    plt.xlabel('Epochs')\n",
        "    plt.ylabel('Accuracy')\n",
        "    plt.ylim(0, 1.0)\n",
        "    plt.xlim(0, 10)  # x축 범위 설정\n",
        "    plt.legend()\n",
        "    plt.show()\n",
        "\n"
      ]
    },
    {
      "cell_type": "code",
      "execution_count": 30,
      "metadata": {
        "id": "iLMEqaOm1Feo",
        "colab": {
          "base_uri": "https://localhost:8080/",
          "height": 927
        },
        "outputId": "95edf0af-95de-43dd-885f-6fdfa682e27a"
      },
      "outputs": [
        {
          "output_type": "display_data",
          "data": {
            "text/plain": [
              "<Figure size 640x480 with 1 Axes>"
            ],
            "image/png": "[encoded data removed]"
          },
          "metadata": {}
        },
        {
          "output_type": "display_data",
          "data": {
            "text/plain": [
              "<Figure size 640x480 with 1 Axes>"
            ],
            "image/png": "[encoded data removed]"
          },
          "metadata": {}
        }
      ],
      "source": [
        "plot_loss(history)\n",
        "plot_accuracy(history)\n"
      ]
    },
    {
      "cell_type": "code",
      "source": [
        "print(X.shape)"
      ],
      "metadata": {
        "colab": {
          "base_uri": "https://localhost:8080/"
        },
        "id": "J_AzTK00ynY0",
        "outputId": "6a2b6789-b189-4e1c-dbfd-1f023da8c5e5"
      },
      "execution_count": 76,
      "outputs": [
        {
          "output_type": "stream",
          "name": "stdout",
          "text": [
            "(133682, 12, 1)\n"
          ]
        }
      ]
    },
    {
      "cell_type": "code",
      "source": [
        "model.save('temp_1day_prediction.h5')"
      ],
      "metadata": {
        "colab": {
          "base_uri": "https://localhost:8080/"
        },
        "id": "GSFHEhGwp7Qq",
        "outputId": "63619877-c29e-4b47-e391-f5688c1dffe0"
      },
      "execution_count": 31,
      "outputs": [
        {
          "output_type": "stream",
          "name": "stderr",
          "text": [
            "/usr/local/lib/python3.10/dist-packages/keras/src/engine/training.py:3103: UserWarning: You are saving your model as an HDF5 file via `model.save()`. This file format is considered legacy. We recommend using instead the native Keras format, e.g. `model.save('my_model.keras')`.\n",
            "  saving_api.save_model(\n"
          ]
        }
      ]
    },
    {
      "cell_type": "code",
      "execution_count": 89,
      "metadata": {
        "id": "jGr-X-T8WR0k",
        "colab": {
          "base_uri": "https://localhost:8080/"
        },
        "outputId": "b64a3cb3-5896-4503-d5a7-28d72cf9f7fe"
      },
      "outputs": [
        {
          "output_type": "stream",
          "name": "stdout",
          "text": [
            "1/1 [==============================] - 0s 23ms/step\n",
            "1/1 [==============================] - 0s 45ms/step\n",
            "1/1 [==============================] - 0s 95ms/step\n",
            "1/1 [==============================] - 0s 105ms/step\n",
            "1/1 [==============================] - 0s 55ms/step\n",
            "1/1 [==============================] - 0s 61ms/step\n",
            "60분 강수량 예측: \n",
            "8.720592\n",
            "2.5981753\n",
            "1.7446091\n",
            "1.3026392\n",
            "0.9784559\n",
            "0.9323346\n",
            "1.1643771\n"
          ]
        }
      ],
      "source": [
        "# 새로운 데이터 시퀀스\n",
        "region_encoded = label_encoder.transform(['강남구'])\n",
        "region_encoded = np.array(region_encoded).reshape(-1, 1)\n",
        "new_seq = [0,0,1,1,1,1,1,2.5, 5, 5.5,4.5,3.5]  # 예시 데이터\n",
        "new_seq2 = [0,1,1,1,1,1,2.5, 5, 5.5,4.5,3.5,1.5]  # 예시 데이터\n",
        "new_seq3 = [1,1,1,1,1,2.5, 5, 5.5,4.5,3.5,1.5,1]  # 예시 데이터\n",
        "new_seq4 = [1,1,1,1,2.5, 5, 5.5,4.5,3.5,1.5,1,1]\n",
        "new_seq5 = [1,1,1,2.5, 5, 5.5,4.5,3.5,1.5,1,1,0.5]\n",
        "\n",
        "new_seq6 = [1,1,2.5, 5, 5.5,4.5,3.5,1.5,1,1,0.5,1]\n",
        "new_seq = np.array(new_seq,).reshape(1, seq_length)\n",
        "new_seq2 = np.array(new_seq2,).reshape(1, seq_length)\n",
        "new_seq3 = np.array(new_seq3,).reshape(1, seq_length)\n",
        "new_seq4 = np.array(new_seq4,).reshape(1, seq_length)\n",
        "new_seq5 = np.array(new_seq5,).reshape(1, seq_length)\n",
        "new_seq6 = np.array(new_seq6,).reshape(1, seq_length)\n",
        "total = 0\n",
        "\n",
        "predict_result=model.predict([new_seq,region_encoded])\n",
        "predict_result2=model.predict([new_seq2,region_encoded])\n",
        "predict_result3=model.predict([new_seq3,region_encoded])\n",
        "predict_result4=model.predict([new_seq4,region_encoded])\n",
        "predict_result5=model.predict([new_seq5,region_encoded])\n",
        "predict_result6=model.predict([new_seq6,region_encoded])\n",
        "total = predict_result[0][0] + predict_result2[0][0] + predict_result3[0][0]+ predict_result4[0][0]+ predict_result5[0][0]+ predict_result6[0][0]\n",
        "print(\"60분 강수량 예측: \")\n",
        "print(total)\n",
        "print(predict_result[0][0])\n",
        "print(predict_result2[0][0])\n",
        "print(predict_result3[0][0])\n",
        "print(predict_result6[0][0])\n",
        "print(predict_result5[0][0])\n",
        "print(predict_result4[0][0])\n",
        "\n",
        "\n"
      ]
    },
    {
      "cell_type": "code",
      "source": [
        "from math import nan\n",
        "import matplotlib.pyplot as plt\n",
        "\n",
        "# 예측 결과 저장\n",
        "predictions = [nan,nan,nan,nan,nan,nan,nan,nan,nan,nan,nan,nan,predict_result[0][0],predict_result2[0][0], predict_result3[0][0],predict_result4[0][0],predict_result5[0][0],predict_result6[0][0]]\n",
        "\n",
        "# 예측에 사용된 데이터\n",
        "sequences = [new_seq.flatten()]\n",
        "\n",
        "# 그래프로 시각화\n",
        "plt.figure(figsize=(10, 6))\n",
        "\n",
        "# 예측 결과 그래프\n",
        "plt.plot(predictions, label='Predicted Precipitation')\n",
        "\n",
        "# 예측에 사용된 데이터 그래프\n",
        "for i, seq in enumerate(sequences):\n",
        "    plt.plot(seq, label=f'Sequence {i+1}')\n",
        "\n",
        "plt.xlabel('Time Step')\n",
        "plt.ylabel('Precipitation')\n",
        "plt.title('Predicted Precipitation vs. Input Sequences')\n",
        "plt.legend()\n",
        "plt.grid(True)\n",
        "plt.show()\n"
      ],
      "metadata": {
        "colab": {
          "base_uri": "https://localhost:8080/",
          "height": 450
        },
        "id": "emkWc4jN2N1D",
        "outputId": "9a506230-c252-4340-f8f2-8b2243319f8c"
      },
      "execution_count": 90,
      "outputs": [
        {
          "output_type": "display_data",
          "data": {
            "text/plain": [
              "<Figure size 1000x600 with 1 Axes>"
            ],
            "image/png": "[encoded data removed]"
          },
          "metadata": {}
        }
      ]
    }
  ],
  "metadata": {
    "accelerator": "GPU",
    "colab": {
      "gpuType": "T4",
      "provenance": []
    },
    "kernelspec": {
      "display_name": "Python 3",
      "name": "python3"
    },
    "language_info": {
      "name": "python"
    }
  },
  "nbformat": 4,
  "nbformat_minor": 0
}