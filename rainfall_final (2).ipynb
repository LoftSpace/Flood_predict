{
  "cells": [
    {
      "cell_type": "code",
      "execution_count": 1,
      "metadata": {
        "id": "pRwtqxDUwi7T"
      },
      "outputs": [],
      "source": [
        "import numpy as np\n",
        "import pandas as pd\n",
        "import tensorflow as tf\n",
        "import matplotlib.pyplot as plt\n",
        "\n",
        "from sklearn.preprocessing import MinMaxScaler\n",
        "\n",
        "from tensorflow.keras.models import Sequential\n",
        "from tensorflow.keras.layers import LSTM, Dense\n",
        "\n",
        "\n",
        "from sklearn.metrics import accuracy_score, precision_score, recall_score\n",
        "from sklearn.model_selection import train_test_split\n",
        "\n",
        "import os\n"
      ]
    },
    {
      "cell_type": "code",
      "execution_count": 2,
      "metadata": {
        "id": "A_HWN_LHwkH_"
      },
      "outputs": [],
      "source": [
        "os.environ[\"CUDA_VISIBLE_DEVICES\"]=\"0\"\n",
        "gpus = tf.config.experimental.list_physical_devices('GPU')\n",
        "if gpus:\n",
        "    try:\n",
        "        tf.config.experimental.set_memory_growth(gpus[0], True)\n",
        "    except RuntimeError as e:\n",
        "        print(e)\n"
      ]
    },
    {
      "cell_type": "code",
      "execution_count": 3,
      "metadata": {
        "colab": {
          "base_uri": "https://localhost:8080/",
          "height": 206
        },
        "id": "39vWs1Uzw5l9",
        "outputId": "c4b54ca9-de3e-4728-af8c-03f8354bbca7"
      },
      "outputs": [
        {
          "output_type": "execute_result",
          "data": {
            "text/plain": [
              "        0              1                2\n",
              "0  region  precipitation             time\n",
              "1     강남구              0  2021-06-01 0:09\n",
              "2     강남구              0  2021-06-01 0:09\n",
              "3     강남구              0  2021-06-01 0:09\n",
              "4     강남구              0  2021-06-01 0:19"
            ],
            "text/html": [
              "\n",
              "  <div id=\"df-fe288557-1342-4dc3-99c5-0dffcf18eba2\" class=\"colab-df-container\">\n",
              "    <div>\n",
              "<style scoped>\n",
              "    .dataframe tbody tr th:only-of-type {\n",
              "        vertical-align: middle;\n",
              "    }\n",
              "\n",
              "    .dataframe tbody tr th {\n",
              "        vertical-align: top;\n",
              "    }\n",
              "\n",
              "    .dataframe thead th {\n",
              "        text-align: right;\n",
              "    }\n",
              "</style>\n",
              "<table border=\"1\" class=\"dataframe\">\n",
              "  <thead>\n",
              "    <tr style=\"text-align: right;\">\n",
              "      <th></th>\n",
              "      <th>0</th>\n",
              "      <th>1</th>\n",
              "      <th>2</th>\n",
              "    </tr>\n",
              "  </thead>\n",
              "  <tbody>\n",
              "    <tr>\n",
              "      <th>0</th>\n",
              "      <td>region</td>\n",
              "      <td>precipitation</td>\n",
              "      <td>time</td>\n",
              "    </tr>\n",
              "    <tr>\n",
              "      <th>1</th>\n",
              "      <td>강남구</td>\n",
              "      <td>0</td>\n",
              "      <td>2021-06-01 0:09</td>\n",
              "    </tr>\n",
              "    <tr>\n",
              "      <th>2</th>\n",
              "      <td>강남구</td>\n",
              "      <td>0</td>\n",
              "      <td>2021-06-01 0:09</td>\n",
              "    </tr>\n",
              "    <tr>\n",
              "      <th>3</th>\n",
              "      <td>강남구</td>\n",
              "      <td>0</td>\n",
              "      <td>2021-06-01 0:09</td>\n",
              "    </tr>\n",
              "    <tr>\n",
              "      <th>4</th>\n",
              "      <td>강남구</td>\n",
              "      <td>0</td>\n",
              "      <td>2021-06-01 0:19</td>\n",
              "    </tr>\n",
              "  </tbody>\n",
              "</table>\n",
              "</div>\n",
              "    <div class=\"colab-df-buttons\">\n",
              "\n",
              "  <div class=\"colab-df-container\">\n",
              "    <button class=\"colab-df-convert\" onclick=\"convertToInteractive('df-fe288557-1342-4dc3-99c5-0dffcf18eba2')\"\n",
              "            title=\"Convert this dataframe to an interactive table.\"\n",
              "            style=\"display:none;\">\n",
              "\n",
              "  <svg xmlns=\"http://www.w3.org/2000/svg\" height=\"24px\" viewBox=\"0 -960 960 960\">\n",
              "    <path d=\"M120-120v-720h720v720H120Zm60-500h600v-160H180v160Zm220 220h160v-160H400v160Zm0 220h160v-160H400v160ZM180-400h160v-160H180v160Zm440 0h160v-160H620v160ZM180-180h160v-160H180v160Zm440 0h160v-160H620v160Z\"/>\n",
              "  </svg>\n",
              "    </button>\n",
              "\n",
              "  <style>\n",
              "    .colab-df-container {\n",
              "      display:flex;\n",
              "      gap: 12px;\n",
              "    }\n",
              "\n",
              "    .colab-df-convert {\n",
              "      background-color: #E8F0FE;\n",
              "      border: none;\n",
              "      border-radius: 50%;\n",
              "      cursor: pointer;\n",
              "      display: none;\n",
              "      fill: #1967D2;\n",
              "      height: 32px;\n",
              "      padding: 0 0 0 0;\n",
              "      width: 32px;\n",
              "    }\n",
              "\n",
              "    .colab-df-convert:hover {\n",
              "      background-color: #E2EBFA;\n",
              "      box-shadow: 0px 1px 2px rgba(60, 64, 67, 0.3), 0px 1px 3px 1px rgba(60, 64, 67, 0.15);\n",
              "      fill: #174EA6;\n",
              "    }\n",
              "\n",
              "    .colab-df-buttons div {\n",
              "      margin-bottom: 4px;\n",
              "    }\n",
              "\n",
              "    [theme=dark] .colab-df-convert {\n",
              "      background-color: #3B4455;\n",
              "      fill: #D2E3FC;\n",
              "    }\n",
              "\n",
              "    [theme=dark] .colab-df-convert:hover {\n",
              "      background-color: #434B5C;\n",
              "      box-shadow: 0px 1px 3px 1px rgba(0, 0, 0, 0.15);\n",
              "      filter: drop-shadow(0px 1px 2px rgba(0, 0, 0, 0.3));\n",
              "      fill: #FFFFFF;\n",
              "    }\n",
              "  </style>\n",
              "\n",
              "    <script>\n",
              "      const buttonEl =\n",
              "        document.querySelector('#df-fe288557-1342-4dc3-99c5-0dffcf18eba2 button.colab-df-convert');\n",
              "      buttonEl.style.display =\n",
              "        google.colab.kernel.accessAllowed ? 'block' : 'none';\n",
              "\n",
              "      async function convertToInteractive(key) {\n",
              "        const element = document.querySelector('#df-fe288557-1342-4dc3-99c5-0dffcf18eba2');\n",
              "        const dataTable =\n",
              "          await google.colab.kernel.invokeFunction('convertToInteractive',\n",
              "                                                    [key], {});\n",
              "        if (!dataTable) return;\n",
              "\n",
              "        const docLinkHtml = 'Like what you see? Visit the ' +\n",
              "          '<a target=\"_blank\" href=https://colab.research.google.com/notebooks/data_table.ipynb>data table notebook</a>'\n",
              "          + ' to learn more about interactive tables.';\n",
              "        element.innerHTML = '';\n",
              "        dataTable['output_type'] = 'display_data';\n",
              "        await google.colab.output.renderOutput(dataTable, element);\n",
              "        const docLink = document.createElement('div');\n",
              "        docLink.innerHTML = docLinkHtml;\n",
              "        element.appendChild(docLink);\n",
              "      }\n",
              "    </script>\n",
              "  </div>\n",
              "\n",
              "\n",
              "<div id=\"df-387be763-9044-47e2-9c97-c822488ab241\">\n",
              "  <button class=\"colab-df-quickchart\" onclick=\"quickchart('df-387be763-9044-47e2-9c97-c822488ab241')\"\n",
              "            title=\"Suggest charts\"\n",
              "            style=\"display:none;\">\n",
              "\n",
              "<svg xmlns=\"http://www.w3.org/2000/svg\" height=\"24px\"viewBox=\"0 0 24 24\"\n",
              "     width=\"24px\">\n",
              "    <g>\n",
              "        <path d=\"M19 3H5c-1.1 0-2 .9-2 2v14c0 1.1.9 2 2 2h14c1.1 0 2-.9 2-2V5c0-1.1-.9-2-2-2zM9 17H7v-7h2v7zm4 0h-2V7h2v10zm4 0h-2v-4h2v4z\"/>\n",
              "    </g>\n",
              "</svg>\n",
              "  </button>\n",
              "\n",
              "<style>\n",
              "  .colab-df-quickchart {\n",
              "      --bg-color: #E8F0FE;\n",
              "      --fill-color: #1967D2;\n",
              "      --hover-bg-color: #E2EBFA;\n",
              "      --hover-fill-color: #174EA6;\n",
              "      --disabled-fill-color: #AAA;\n",
              "      --disabled-bg-color: #DDD;\n",
              "  }\n",
              "\n",
              "  [theme=dark] .colab-df-quickchart {\n",
              "      --bg-color: #3B4455;\n",
              "      --fill-color: #D2E3FC;\n",
              "      --hover-bg-color: #434B5C;\n",
              "      --hover-fill-color: #FFFFFF;\n",
              "      --disabled-bg-color: #3B4455;\n",
              "      --disabled-fill-color: #666;\n",
              "  }\n",
              "\n",
              "  .colab-df-quickchart {\n",
              "    background-color: var(--bg-color);\n",
              "    border: none;\n",
              "    border-radius: 50%;\n",
              "    cursor: pointer;\n",
              "    display: none;\n",
              "    fill: var(--fill-color);\n",
              "    height: 32px;\n",
              "    padding: 0;\n",
              "    width: 32px;\n",
              "  }\n",
              "\n",
              "  .colab-df-quickchart:hover {\n",
              "    background-color: var(--hover-bg-color);\n",
              "    box-shadow: 0 1px 2px rgba(60, 64, 67, 0.3), 0 1px 3px 1px rgba(60, 64, 67, 0.15);\n",
              "    fill: var(--button-hover-fill-color);\n",
              "  }\n",
              "\n",
              "  .colab-df-quickchart-complete:disabled,\n",
              "  .colab-df-quickchart-complete:disabled:hover {\n",
              "    background-color: var(--disabled-bg-color);\n",
              "    fill: var(--disabled-fill-color);\n",
              "    box-shadow: none;\n",
              "  }\n",
              "\n",
              "  .colab-df-spinner {\n",
              "    border: 2px solid var(--fill-color);\n",
              "    border-color: transparent;\n",
              "    border-bottom-color: var(--fill-color);\n",
              "    animation:\n",
              "      spin 1s steps(1) infinite;\n",
              "  }\n",
              "\n",
              "  @keyframes spin {\n",
              "    0% {\n",
              "      border-color: transparent;\n",
              "      border-bottom-color: var(--fill-color);\n",
              "      border-left-color: var(--fill-color);\n",
              "    }\n",
              "    20% {\n",
              "      border-color: transparent;\n",
              "      border-left-color: var(--fill-color);\n",
              "      border-top-color: var(--fill-color);\n",
              "    }\n",
              "    30% {\n",
              "      border-color: transparent;\n",
              "      border-left-color: var(--fill-color);\n",
              "      border-top-color: var(--fill-color);\n",
              "      border-right-color: var(--fill-color);\n",
              "    }\n",
              "    40% {\n",
              "      border-color: transparent;\n",
              "      border-right-color: var(--fill-color);\n",
              "      border-top-color: var(--fill-color);\n",
              "    }\n",
              "    60% {\n",
              "      border-color: transparent;\n",
              "      border-right-color: var(--fill-color);\n",
              "    }\n",
              "    80% {\n",
              "      border-color: transparent;\n",
              "      border-right-color: var(--fill-color);\n",
              "      border-bottom-color: var(--fill-color);\n",
              "    }\n",
              "    90% {\n",
              "      border-color: transparent;\n",
              "      border-bottom-color: var(--fill-color);\n",
              "    }\n",
              "  }\n",
              "</style>\n",
              "\n",
              "  <script>\n",
              "    async function quickchart(key) {\n",
              "      const quickchartButtonEl =\n",
              "        document.querySelector('#' + key + ' button');\n",
              "      quickchartButtonEl.disabled = true;  // To prevent multiple clicks.\n",
              "      quickchartButtonEl.classList.add('colab-df-spinner');\n",
              "      try {\n",
              "        const charts = await google.colab.kernel.invokeFunction(\n",
              "            'suggestCharts', [key], {});\n",
              "      } catch (error) {\n",
              "        console.error('Error during call to suggestCharts:', error);\n",
              "      }\n",
              "      quickchartButtonEl.classList.remove('colab-df-spinner');\n",
              "      quickchartButtonEl.classList.add('colab-df-quickchart-complete');\n",
              "    }\n",
              "    (() => {\n",
              "      let quickchartButtonEl =\n",
              "        document.querySelector('#df-387be763-9044-47e2-9c97-c822488ab241 button');\n",
              "      quickchartButtonEl.style.display =\n",
              "        google.colab.kernel.accessAllowed ? 'block' : 'none';\n",
              "    })();\n",
              "  </script>\n",
              "</div>\n",
              "\n",
              "    </div>\n",
              "  </div>\n"
            ],
            "application/vnd.google.colaboratory.intrinsic+json": {
              "type": "dataframe",
              "variable_name": "data",
              "summary": "{\n  \"name\": \"data\",\n  \"rows\": 16006,\n  \"fields\": [\n    {\n      \"column\": 0,\n      \"properties\": {\n        \"dtype\": \"category\",\n        \"num_unique_values\": 26,\n        \"samples\": [\n          \"\\uae08\\ucc9c\\uad6c\",\n          \"\\uc131\\ub3d9\\uad6c\",\n          \"region\"\n        ],\n        \"semantic_type\": \"\",\n        \"description\": \"\"\n      }\n    },\n    {\n      \"column\": 1,\n      \"properties\": {\n        \"dtype\": \"category\",\n        \"num_unique_values\": 33,\n        \"samples\": [\n          \"14\",\n          \"5\",\n          \"18\"\n        ],\n        \"semantic_type\": \"\",\n        \"description\": \"\"\n      }\n    },\n    {\n      \"column\": 2,\n      \"properties\": {\n        \"dtype\": \"category\",\n        \"num_unique_values\": 922,\n        \"samples\": [\n          \"2021-06-30 13:29\",\n          \"2021-06-22 20:09\",\n          \"2021-06-28 8:29\"\n        ],\n        \"semantic_type\": \"\",\n        \"description\": \"\"\n      }\n    }\n  ]\n}"
            }
          },
          "metadata": {},
          "execution_count": 3
        }
      ],
      "source": [
        "###TO DO@1: consider other parameters + precipitation\n",
        "###CASE:1 - predict each parameters -> input to classification model\n",
        "###CASE:2 - predict overall system in LSTM\n",
        "###TO DO@2: create git hub repository\n",
        "'''\n",
        "data = pd.read_csv('/content/2021_06.csv', header=None,encoding=\"cp949\")\n",
        "data4 = pd.read_csv('/content/2022_06.csv', header=None,encoding=\"cp949\")\n",
        "data7 = pd.read_csv('/content/2023_06.csv', header=None,encoding=\"cp949\")\n",
        "\n",
        "data8 = pd.read_csv('/content/seoul_2023_07.csv', header=None,encoding=\"cp949\")\n",
        "data9 = pd.read_csv('/content/seoul_2023_08.csv', header=None,encoding=\"cp949\")\n",
        "data5 = pd.read_csv('/content/seoul_2022_07.csv', header=None,encoding=\"cp949\")\n",
        "data6 = pd.read_csv('/content/seoul_2022_08.csv', header=None,encoding=\"cp949\")\n",
        "data2 = pd.read_csv('/content/seoul_2021_07.csv', header=None,encoding=\"cp949\")\n",
        "data3 = pd.read_csv('/content/seoul_2021_08.csv', header=None,encoding=\"cp949\")\n",
        "data.head()\n",
        "'''"
      ]
    },
    {
      "cell_type": "code",
      "execution_count": 4,
      "metadata": {
        "colab": {
          "base_uri": "https://localhost:8080/"
        },
        "id": "AkydA-nyYfHN",
        "outputId": "2da73e3c-4699-47fc-d84b-df48ae9e36a5"
      },
      "outputs": [
        {
          "output_type": "execute_result",
          "data": {
            "text/plain": [
              "array([['강남구', '2', '2023-08-04 14:49'],\n",
              "       ['강남구', '0', '2023-08-04 14:49'],\n",
              "       ['강남구', '0', '2023-08-04 14:49'],\n",
              "       ...,\n",
              "       ['중랑구', '0', '2023-08-30 20:19'],\n",
              "       ['중랑구', '0', '2023-08-30 20:29'],\n",
              "       ['중랑구', '0', '2023-08-30 20:29']], dtype=object)"
            ]
          },
          "metadata": {},
          "execution_count": 4
        }
      ],
      "source": [
        "'''\n",
        "data=np.array(data)\n",
        "data2=np.array(data2)\n",
        "data3=np.array(data3)\n",
        "data4=np.array(data4)\n",
        "data5=np.array(data5)\n",
        "data6=np.array(data6)\n",
        "data7=np.array(data7)\n",
        "data8=np.array(data8)\n",
        "data9=np.array(data9)\n",
        "data2 = data2[1:]\n",
        "data3 = data3[1:]\n",
        "data4 = data4[1:]\n",
        "data5 = data5[1:]\n",
        "data6 = data6[1:]\n",
        "data7 = data7[1:]\n",
        "data8 = data8[1:]\n",
        "data9 = data9[1:]\n",
        "data = np.concatenate((data,data2,data3,data4,data5,data6,data7,data8,data9))\n",
        "data\n",
        "data9\n",
        "'''"
      ]
    },
    {
      "cell_type": "code",
      "execution_count": 5,
      "metadata": {
        "id": "KD1gQrNDzSHA"
      },
      "outputs": [],
      "source": [
        "#np.save('seoul2_data.npy', data)\n"
      ]
    },
    {
      "cell_type": "code",
      "execution_count": 6,
      "metadata": {
        "colab": {
          "base_uri": "https://localhost:8080/"
        },
        "id": "NV22CZBZyAYq",
        "outputId": "607b2f37-5e4e-4ebb-eaff-b718d71166c4"
      },
      "outputs": [
        {
          "output_type": "stream",
          "name": "stdout",
          "text": [
            "['강남구' '강동구' '강북구' '강서구' '관악구' '광진구' '구로구' '금천구' '노원구' '도봉구' '동대문구' '동작구'\n",
            " '마포구' '서대문구' '서초구' '성동구' '성북구' '송파구' '양천구' '영등포구' '용산구' '은평구' '종로구' '중구'\n",
            " '중랑구']\n"
          ]
        }
      ],
      "source": [
        "###########데이터 전처리 ###########\n",
        "data = np.load('/content/seoul_data.npy', allow_pickle=True)\n",
        "\n",
        "# 데이터셋을 Pandas DataFrame으로 변환\n",
        "df = pd.DataFrame(data[1:], columns=data[0])\n",
        "# 지역 날짜와 강수량 데이터 추출\n",
        "df['time'] = pd.to_datetime(df['time'])\n",
        "df['precipitation'] = df['precipitation'].astype(float)\n",
        "regions = df['region'].unique()\n",
        "print(regions)\n",
        "\n",
        "precipitation = df['precipitation'].values\n",
        "dates = df['time'].values\n",
        "\n",
        "#print(dates)\n"
      ]
    },
    {
      "cell_type": "code",
      "execution_count": 7,
      "metadata": {
        "id": "dhbvCXQJfV1x"
      },
      "outputs": [],
      "source": [
        "region_data = {}\n",
        "\n",
        "for region in regions:\n",
        "    region_df = df[df['region'] == region][['time', 'precipitation']]\n",
        "    region_df['time'] = pd.to_datetime(region_df['time'])\n",
        "    region_df = region_df.sort_values('time')\n",
        "\n",
        "    #scaler = MinMaxScaler()\n",
        "    #region_df['precipitation'] = scaler.fit_transform(region_df[['precipitation']])\n",
        "\n",
        "    region_data[region] = (region_df)\n"
      ]
    },
    {
      "cell_type": "code",
      "execution_count": 8,
      "metadata": {
        "id": "X_C5yuGdEvSx"
      },
      "outputs": [],
      "source": [
        "for i in regions:\n",
        "  region_data[i]=region_data[i].dropna()"
      ]
    },
    {
      "cell_type": "code",
      "execution_count": 9,
      "metadata": {
        "id": "zE5Q4twBp5fc"
      },
      "outputs": [],
      "source": [
        "# 시계열 윈도우 생성 함수\n",
        "def create_sequences(data, seq_length):\n",
        "    sequences = []\n",
        "\n",
        "    data2=[]\n",
        "    for i in data:\n",
        "      data2.append(i)\n",
        "\n",
        "\n",
        "    for i in range(len(data2) - seq_length-4):\n",
        "        sequence = data2[i:i + seq_length]\n",
        "\n",
        "        label = data2[i + seq_length+4]\n",
        "        sequences.append((sequence, label))\n",
        "    return sequences\n",
        "\n",
        "# 시계열 윈도우 생성 및 데이터 결합\n",
        "seq_length = 12\n",
        "all_sequences = []\n",
        "#print(region_data.items())\n",
        "i=0\n",
        "for region, (region_df, _) in region_data.items():\n",
        "   ps=region_data[region].precipitation\n",
        "\n",
        "\n",
        "  #sequences = create_sequences(region_df['precipitation'].values, seq_length)\n",
        "   sequences = create_sequences(ps, seq_length)\n",
        "  # print(sequences)\n",
        "   for seq, label in sequences:\n",
        "       all_sequences.append((region, seq, label))\n",
        "\n",
        "\n",
        "# 데이터를 입력(X), 출력(y), 지역 정보(region)으로 분리\n",
        "regions, X, y = zip(*all_sequences)\n",
        "X = np.array(X)\n",
        "y = np.array(y)\n",
        "\n"
      ]
    },
    {
      "cell_type": "code",
      "execution_count": 10,
      "metadata": {
        "id": "B737llBGBcAf"
      },
      "outputs": [],
      "source": [
        "# LSTM 입력 형식에 맞게 데이터 차원 변경\n",
        "X = X.reshape((X.shape[0], X.shape[1], 1))\n",
        "\n",
        "# 지역 정보를 수치형으로 변환 (Label Encoding)\n",
        "from sklearn.preprocessing import LabelEncoder\n",
        "\n",
        "label_encoder = LabelEncoder()\n",
        "region_encoded = label_encoder.fit_transform(regions)\n",
        "region_encoded = np.array(region_encoded).reshape(-1, 1)"
      ]
    },
    {
      "cell_type": "code",
      "execution_count": 11,
      "metadata": {
        "colab": {
          "base_uri": "https://localhost:8080/"
        },
        "id": "XC3yO_aJuL5S",
        "outputId": "383d1346-c865-465d-ecc5-5a1e2a50ec0f"
      },
      "outputs": [
        {
          "output_type": "stream",
          "name": "stderr",
          "text": [
            "WARNING:tensorflow:Layer lstm will not use cuDNN kernels since it doesn't meet the criteria. It will use a generic GPU kernel as fallback when running on GPU.\n",
            "WARNING:tensorflow:Layer lstm_1 will not use cuDNN kernels since it doesn't meet the criteria. It will use a generic GPU kernel as fallback when running on GPU.\n",
            "WARNING:tensorflow:Layer lstm_2 will not use cuDNN kernels since it doesn't meet the criteria. It will use a generic GPU kernel as fallback when running on GPU.\n"
          ]
        },
        {
          "output_type": "stream",
          "name": "stdout",
          "text": [
            "Epoch 1/15\n",
            "2437/2437 [==============================] - 102s 40ms/step - loss: 0.5669 - accuracy: 0.5566 - val_loss: 0.5173 - val_accuracy: 0.5670\n",
            "Epoch 2/15\n",
            "2437/2437 [==============================] - 96s 39ms/step - loss: 0.5590 - accuracy: 0.5557 - val_loss: 0.5119 - val_accuracy: 0.5655\n",
            "Epoch 3/15\n",
            "2437/2437 [==============================] - 95s 39ms/step - loss: 0.5573 - accuracy: 0.5551 - val_loss: 0.5120 - val_accuracy: 0.5661\n",
            "Epoch 4/15\n",
            "2437/2437 [==============================] - 97s 40ms/step - loss: 0.5563 - accuracy: 0.5550 - val_loss: 0.5107 - val_accuracy: 0.5670\n",
            "Epoch 5/15\n",
            "2437/2437 [==============================] - 97s 40ms/step - loss: 0.5551 - accuracy: 0.5544 - val_loss: 0.5112 - val_accuracy: 0.5631\n",
            "Epoch 6/15\n",
            "2437/2437 [==============================] - 94s 39ms/step - loss: 0.5543 - accuracy: 0.5544 - val_loss: 0.5100 - val_accuracy: 0.5619\n",
            "Epoch 7/15\n",
            "2437/2437 [==============================] - 94s 39ms/step - loss: 0.5537 - accuracy: 0.5546 - val_loss: 0.5098 - val_accuracy: 0.5581\n",
            "Epoch 8/15\n",
            "2437/2437 [==============================] - 95s 39ms/step - loss: 0.5530 - accuracy: 0.5539 - val_loss: 0.5105 - val_accuracy: 0.5665\n",
            "Epoch 9/15\n",
            "2437/2437 [==============================] - 95s 39ms/step - loss: 0.5518 - accuracy: 0.5539 - val_loss: 0.5121 - val_accuracy: 0.5603\n",
            "Epoch 10/15\n",
            "2437/2437 [==============================] - 97s 40ms/step - loss: 0.5504 - accuracy: 0.5542 - val_loss: 0.5114 - val_accuracy: 0.5637\n",
            "Epoch 11/15\n",
            "2437/2437 [==============================] - 95s 39ms/step - loss: 0.5494 - accuracy: 0.5537 - val_loss: 0.5111 - val_accuracy: 0.5653\n",
            "Epoch 12/15\n",
            "2437/2437 [==============================] - 96s 39ms/step - loss: 0.5500 - accuracy: 0.5538 - val_loss: 0.5094 - val_accuracy: 0.5579\n",
            "Epoch 13/15\n",
            "2437/2437 [==============================] - 98s 40ms/step - loss: 0.5502 - accuracy: 0.5537 - val_loss: 0.5095 - val_accuracy: 0.5503\n",
            "Epoch 14/15\n",
            "2437/2437 [==============================] - 97s 40ms/step - loss: 0.5489 - accuracy: 0.5530 - val_loss: 0.5102 - val_accuracy: 0.5539\n",
            "Epoch 15/15\n",
            "2437/2437 [==============================] - 99s 41ms/step - loss: 0.5482 - accuracy: 0.5533 - val_loss: 0.5099 - val_accuracy: 0.5586\n"
          ]
        }
      ],
      "source": [
        "import tensorflow as tf\n",
        "from tensorflow.keras.models import Model\n",
        "from tensorflow.keras.layers import Input, LSTM, Dense, Concatenate, Embedding, Flatten\n",
        "from tensorflow.keras.initializers import RandomNormal\n",
        "from tensorflow.keras.optimizers import Adam\n",
        "\n",
        "\n",
        "from keras.losses import mean_squared_error\n",
        "\n",
        "def rmse(y_true, y_pred):\n",
        "    return tf.sqrt(mean_squared_error(y_true, y_pred))\n",
        "\n",
        "# 모델을 로드하기 전에 'rmse' 손실 함수를 등록합니다.\n",
        "tf.keras.utils.get_custom_objects()['rmse'] = rmse\n",
        "\n",
        "# 입력 레이어 정의\n",
        "input_seq = Input(shape=(seq_length, 1))\n",
        "input_region = Input(shape=(1,))\n",
        "\n",
        "# 지역 정보를 Embedding하여 사용\n",
        "embedding = Embedding(input_dim=len(regions), output_dim=10)(input_region)\n",
        "embedding = Flatten()(embedding)\n",
        "\n",
        "# 시계열 데이터를 LSTM으로 처리\n",
        "\n",
        "lstm_out1 = LSTM(50, activation='relu', return_sequences=True)(input_seq)\n",
        "lstm_out2 = LSTM(50, activation='relu', return_sequences=True)(input_seq)\n",
        "lstm_out3 = LSTM(50, activation='relu')(lstm_out2)\n",
        "\n",
        "# LSTM 출력과 지역 임베딩을 연결\n",
        "combined = Concatenate()([lstm_out3, embedding])\n",
        "# concanate output and region\n",
        "\n",
        "# define output layer\n",
        "output = Dense(1)(combined)\n",
        "#optimizer = Adam(learning_rate=0.001)\n",
        "\n",
        "\n",
        "model = Model(inputs=[input_seq, input_region], outputs=output)\n",
        "model.compile(optimizer='adam', loss='rmse',metrics=['accuracy'])\n",
        "\n",
        "\n",
        "history=model.fit([X, region_encoded], y, epochs=15, batch_size=64, validation_split=0.2)"
      ]
    },
    {
      "cell_type": "code",
      "execution_count": 12,
      "metadata": {
        "id": "s36kI36c0_oB"
      },
      "outputs": [],
      "source": [
        "import matplotlib.pyplot as plt\n",
        "\n",
        "def plot_loss(history):\n",
        "    plt.plot(history.history['loss'], label='Training Loss')\n",
        "    plt.plot(history.history['val_loss'], label='Validation Loss')\n",
        "    plt.title('Training and Validation Loss')\n",
        "    plt.xlabel('Epochs')\n",
        "    plt.ylabel('Loss')\n",
        "    plt.xlim(0,10)  # x축 범위 설정\n",
        "    plt.ylim(0, 10)\n",
        "    plt.legend()\n",
        "    plt.show()\n",
        "\n",
        "def plot_accuracy(history):\n",
        "    plt.plot(history.history['accuracy'], label='Training Accuracy')\n",
        "    plt.plot(history.history['val_accuracy'], label='Validation Accuracy')\n",
        "    plt.title('Training and Validation Accuracy')\n",
        "    plt.xlabel('Epochs')\n",
        "    plt.ylabel('Accuracy')\n",
        "    plt.ylim(0, 1.0)\n",
        "    plt.xlim(0, 10)  # x축 범위 설정\n",
        "    plt.legend()\n",
        "    plt.show()\n",
        "\n"
      ]
    },
    {
      "cell_type": "code",
      "execution_count": 13,
      "metadata": {
        "colab": {
          "base_uri": "https://localhost:8080/",
          "height": 927
        },
        "id": "iLMEqaOm1Feo",
        "outputId": "b2fbb10b-70d3-4106-dcb3-2f88329f9777"
      },
      "outputs": [
        {
          "output_type": "display_data",
          "data": {
            "text/plain": [
              "<Figure size 640x480 with 1 Axes>"
            ],
            "image/png": "[encoded data removed]"
          },
          "metadata": {}
        },
        {
          "output_type": "display_data",
          "data": {
            "text/plain": [
              "<Figure size 640x480 with 1 Axes>"
            ],
            "image/png": "[encoded data removed]"
          },
          "metadata": {}
        }
      ],
      "source": [
        "plot_loss(history)\n",
        "plot_accuracy(history)\n"
      ]
    },
    {
      "cell_type": "code",
      "execution_count": 14,
      "metadata": {
        "colab": {
          "base_uri": "https://localhost:8080/"
        },
        "id": "J_AzTK00ynY0",
        "outputId": "9d0a6725-fbfb-4930-b641-9796a392ddc5"
      },
      "outputs": [
        {
          "output_type": "stream",
          "name": "stdout",
          "text": [
            "(194909, 12, 1)\n"
          ]
        }
      ],
      "source": [
        "print(X.shape)"
      ]
    },
    {
      "cell_type": "code",
      "execution_count": 15,
      "metadata": {
        "colab": {
          "base_uri": "https://localhost:8080/"
        },
        "id": "GSFHEhGwp7Qq",
        "outputId": "d63f6522-b1d1-4896-c6a1-6b1a51068811"
      },
      "outputs": [
        {
          "output_type": "stream",
          "name": "stderr",
          "text": [
            "/usr/local/lib/python3.10/dist-packages/keras/src/engine/training.py:3103: UserWarning: You are saving your model as an HDF5 file via `model.save()`. This file format is considered legacy. We recommend using instead the native Keras format, e.g. `model.save('my_model.keras')`.\n",
            "  saving_api.save_model(\n"
          ]
        }
      ],
      "source": [
        "model.save('temp_1day_prediction.h5')"
      ]
    },
    {
      "cell_type": "code",
      "execution_count": 16,
      "metadata": {
        "colab": {
          "base_uri": "https://localhost:8080/"
        },
        "id": "jGr-X-T8WR0k",
        "outputId": "33953821-8f50-4f91-a2c4-1fc37017966f"
      },
      "outputs": [
        {
          "output_type": "stream",
          "name": "stdout",
          "text": [
            "1/1 [==============================] - 0s 276ms/step\n",
            "1/1 [==============================] - 0s 26ms/step\n",
            "1/1 [==============================] - 0s 19ms/step\n",
            "1/1 [==============================] - 0s 20ms/step\n",
            "1/1 [==============================] - 0s 35ms/step\n",
            "1/1 [==============================] - 0s 26ms/step\n",
            "60분 강수량 예측: \n",
            "5.377062\n",
            "1.2913984\n",
            "0.8983091\n",
            "0.8925613\n",
            "0.802192\n",
            "0.59318\n",
            "0.8994211\n"
          ]
        }
      ],
      "source": [
        "# 새로운 데이터 시퀀스\n",
        "region_encoded = label_encoder.transform(['강남구'])\n",
        "region_encoded = np.array(region_encoded).reshape(-1, 1)\n",
        "new_seq = [0,0,1,1,1,1,1,2.5, 5, 5.5,4.5,3.5]  # 예시 데이터\n",
        "new_seq2 = [0,1,1,1,1,1,2.5, 5, 5.5,4.5,3.5,1.5]  # 예시 데이터\n",
        "new_seq3 = [1,1,1,1,1,2.5, 5, 5.5,4.5,3.5,1.5,1]  # 예시 데이터\n",
        "new_seq4 = [1,1,1,1,2.5, 5, 5.5,4.5,3.5,1.5,1,1]\n",
        "new_seq5 = [1,1,1,2.5, 5, 5.5,4.5,3.5,1.5,1,1,0.5]\n",
        "\n",
        "new_seq6 = [1,1,2.5, 5, 5.5,4.5,3.5,1.5,1,1,0.5,1]\n",
        "new_seq = np.array(new_seq,).reshape(1, seq_length)\n",
        "new_seq2 = np.array(new_seq2,).reshape(1, seq_length)\n",
        "new_seq3 = np.array(new_seq3,).reshape(1, seq_length)\n",
        "new_seq4 = np.array(new_seq4,).reshape(1, seq_length)\n",
        "new_seq5 = np.array(new_seq5,).reshape(1, seq_length)\n",
        "new_seq6 = np.array(new_seq6,).reshape(1, seq_length)\n",
        "total = 0\n",
        "\n",
        "predict_result=model.predict([new_seq,region_encoded])\n",
        "predict_result2=model.predict([new_seq2,region_encoded])\n",
        "predict_result3=model.predict([new_seq3,region_encoded])\n",
        "predict_result4=model.predict([new_seq4,region_encoded])\n",
        "predict_result5=model.predict([new_seq5,region_encoded])\n",
        "predict_result6=model.predict([new_seq6,region_encoded])\n",
        "total = predict_result[0][0] + predict_result2[0][0] + predict_result3[0][0]+ predict_result4[0][0]+ predict_result5[0][0]+ predict_result6[0][0]\n",
        "print(\"60분 강수량 예측: \")\n",
        "print(total)\n",
        "print(predict_result[0][0])\n",
        "print(predict_result2[0][0])\n",
        "print(predict_result3[0][0])\n",
        "print(predict_result6[0][0])\n",
        "print(predict_result5[0][0])\n",
        "print(predict_result4[0][0])\n",
        "\n",
        "\n"
      ]
    },
    {
      "cell_type": "code",
      "execution_count": 17,
      "metadata": {
        "colab": {
          "base_uri": "https://localhost:8080/",
          "height": 564
        },
        "id": "emkWc4jN2N1D",
        "outputId": "d6205255-90e3-429b-ffaa-de6f93a05252"
      },
      "outputs": [
        {
          "output_type": "display_data",
          "data": {
            "text/plain": [
              "<Figure size 1000x600 with 1 Axes>"
            ],
            "image/png": "[encoded data removed]"
          },
          "metadata": {}
        }
      ],
      "source": [
        "from math import nan\n",
        "import matplotlib.pyplot as plt\n",
        "\n",
        "# 예측 결과 저장\n",
        "predictions = [nan,nan,nan,nan,nan,nan,nan,nan,nan,nan,nan,nan,predict_result[0][0],predict_result2[0][0], predict_result3[0][0],predict_result4[0][0],predict_result5[0][0],predict_result6[0][0]]\n",
        "\n",
        "# 예측에 사용된 데이터\n",
        "sequences = [new_seq.flatten()]\n",
        "\n",
        "# 그래프로 시각화\n",
        "plt.figure(figsize=(10, 6))\n",
        "\n",
        "# 예측 결과 그래프\n",
        "plt.plot(predictions, label='Predicted Precipitation')\n",
        "\n",
        "# 예측에 사용된 데이터 그래프\n",
        "for i, seq in enumerate(sequences):\n",
        "    plt.plot(seq, label=f'Sequence {i+1}')\n",
        "\n",
        "plt.xlabel('Time Step')\n",
        "plt.ylabel('Precipitation')\n",
        "plt.title('Predicted Precipitation vs. Input Sequences')\n",
        "plt.legend()\n",
        "plt.grid(True)\n",
        "plt.show()\n"
      ]
    }
  ],
  "metadata": {
    "accelerator": "GPU",
    "colab": {
      "gpuType": "T4",
      "provenance": []
    },
    "kernelspec": {
      "display_name": "Python 3",
      "name": "python3"
    },
    "language_info": {
      "name": "python"
    }
  },
  "nbformat": 4,
  "nbformat_minor": 0
}